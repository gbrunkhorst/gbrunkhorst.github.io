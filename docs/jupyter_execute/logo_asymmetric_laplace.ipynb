{
 "cells": [
  {
   "cell_type": "markdown",
   "metadata": {},
   "source": [
    "# EnvBayes Logo\n",
    "The only self-respecting way for a Python person to make a logo is with Scipy, Numpy, and Matplotlib.  "
   ]
  },
  {
   "cell_type": "code",
   "execution_count": 1,
   "metadata": {},
   "outputs": [],
   "source": [
    "import matplotlib.pyplot as plt\n",
    "import seaborn as sns\n",
    "import scipy.stats as st\n",
    "import numpy as np\n",
    "sns.set_palette(\"Greens_r\")"
   ]
  },
  {
   "cell_type": "code",
   "execution_count": 2,
   "metadata": {
    "tags": []
   },
   "outputs": [
    {
     "data": {
      "image/png": "[encoded data removed]",
      "text/plain": [
       "<Figure size 300x100 with 1 Axes>"
      ]
     },
     "metadata": {
      "filenames": {
       "image/png": "C:\\Users\\greg\\Documents\\CodingProjects_ongoing\\website\\_build\\jupyter_execute\\logo_asymmetric_laplace_2_0.png"
      }
     },
     "output_type": "display_data"
    }
   ],
   "source": [
    "fig, ax = plt.subplots(figsize=(3,1))\n",
    "x = np.linspace(-10, 10, 1000)\n",
    "kappas =  [1, 1/2]\n",
    "offsets = [0, 1.1]\n",
    "coeffs  = [.3, .3]\n",
    "heights = [ 1, .8]\n",
    "for kappa, offset, coeff, height in zip(kappas, offsets, coeffs, heights):\n",
    "    rv = st.laplace_asymmetric(kappa)\n",
    "    ax.plot(x, height * rv.pdf(coeff * x + offset), lw=3)\n",
    "ax.text(4.6, 0.3, 'EnvBayes')\n",
    "plt.axis('off')\n",
    "plt.tight_layout()\n",
    "plt.savefig('logo', dpi=200)"
   ]
  },
  {
   "cell_type": "markdown",
   "metadata": {},
   "source": [
    "The [asymmetric laplace distribution](https://en.wikipedia.org/wiki/Asymmetric_Laplace_distribution) is two exponential distributions standing back-to-back.  In Bayesian statistics, it can be used in quantile regression.  \n",
    "\n",
    "The pair of asymetric laplace distributions in the logo remind me of a stylized version of Mt. Rainier and Little Tahoma in my home state of Washington.   "
   ]
  },
  {
   "cell_type": "code",
   "execution_count": null,
   "metadata": {},
   "outputs": [],
   "source": []
  }
 ],
 "metadata": {
  "kernelspec": {
   "display_name": "Python 3 (ipykernel)",
   "language": "python",
   "name": "python3"
  },
  "language_info": {
   "codemirror_mode": {
    "name": "ipython",
    "version": 3
   },
   "file_extension": ".py",
   "mimetype": "text/x-python",
   "name": "python",
   "nbconvert_exporter": "python",
   "pygments_lexer": "ipython3",
   "version": "3.10.6"
  },
  "vscode": {
   "interpreter": {
    "hash": "87e42bc549ba7240108af3039741061adbf0bbbb6733c029ce90df6b8a4af47a"
   }
  }
 },
 "nbformat": 4,
 "nbformat_minor": 4
}